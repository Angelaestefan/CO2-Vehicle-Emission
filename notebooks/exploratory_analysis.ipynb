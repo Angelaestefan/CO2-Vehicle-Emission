{
 "cells": [
  {
   "cell_type": "markdown",
   "id": "3b54fd9c",
   "metadata": {},
   "source": [
    "# 🚗 Exploratory Data Analysis - CO2 Emissions Dataset\n",
    "---"
   ]
  },
  {
   "cell_type": "markdown",
   "id": "5513fdf7",
   "metadata": {},
   "source": [
    "Importar Librerias"
   ]
  },
  {
   "cell_type": "code",
   "execution_count": null,
   "id": "0f9caaaa",
   "metadata": {},
   "outputs": [
    {
     "ename": "",
     "evalue": "",
     "output_type": "error",
     "traceback": [
      "\u001b[1;31mRunning cells with '.venv (3.10.12) (Python 3.10.12)' requires the ipykernel package.\n",
      "\u001b[1;31mInstall 'ipykernel' into the Python environment. \n",
      "\u001b[1;31mCommand: '\"/home/angiea/CO2 Vehicle Emission/.venv/bin/python\" -m pip install ipykernel -U --force-reinstall'"
     ]
    }
   ],
   "source": [
    "import pandas as pd\n",
    "import numpy as np\n",
    "import matplotlib.pyplot as plt\n",
    "import seaborn as sns"
   ]
  },
  {
   "cell_type": "markdown",
   "id": "e4d6c6fd",
   "metadata": {},
   "source": [
    "### 1. Cargar Datos"
   ]
  },
  {
   "cell_type": "code",
   "execution_count": null,
   "id": "460021a8",
   "metadata": {},
   "outputs": [],
   "source": [
    "data_path = \"../data/co2.csv\"  # ajusta ruta si es necesario\n",
    "df = pd.read_csv(data_path)"
   ]
  }
 ],
 "metadata": {
  "kernelspec": {
   "display_name": ".venv (3.10.12)",
   "language": "python",
   "name": "python3"
  },
  "language_info": {
   "name": "python",
   "version": "3.10.12"
  }
 },
 "nbformat": 4,
 "nbformat_minor": 5
}
